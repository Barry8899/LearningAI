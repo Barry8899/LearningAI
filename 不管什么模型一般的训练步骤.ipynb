{
 "cells": [
  {
   "cell_type": "code",
   "execution_count": 1,
   "metadata": {},
   "outputs": [],
   "source": [
    "import torch\n",
    "import torch.nn as nn\n",
    "import numpy as np"
   ]
  },
  {
   "cell_type": "markdown",
   "metadata": {},
   "source": [
    "模型训练步骤，一般分为以下几步"
   ]
  },
  {
   "cell_type": "code",
   "execution_count": null,
   "metadata": {},
   "outputs": [],
   "source": [
    "# 1. 定义trainset和testset，分割Inputs(X)和labels(Y)\n",
    "\n",
    "\n",
    "\n",
    "# 2. 实例化一个模型\n",
    "model = \n",
    "\n",
    "# 3.设置损失函数\n",
    "criterion = nn.CrossEntropyLoss()\n",
    "\n",
    "# 4. 实例化Optimizer，指定其优化对象（模型的参数），以及设置学习率\n",
    "optimizer = torch.optim.Adam(model.parameters(), lr=0.01)\n",
    "\n",
    "# 5. 开始循环\n",
    "for epoch in range(20):\n",
    "    \n",
    "    # 6.每轮循环先把gradient清空，要不然多个epoch的gradient会叠加在一起。\n",
    "    # 因为这轮循环中parameter本身只需减去这一轮的gradient，如果不清空的话就会连着前几轮的gradient一起减去，重复运算了。\n",
    "    # 专业术语叫 To avoid gradient accumulation \n",
    "    optimizer.zero_grad()\n",
    "    \n",
    "    # 7. feed forward\n",
    "    outputs = model(inputs)\n",
    "    \n",
    "    # 8. 计算损失\n",
    "    loss = criterion(outputs, Y)\n",
    "    \n",
    "    # 9. 反向传播，计算gradient。即loss对每个参数的偏导\n",
    "    loss.backward()\n",
    "    \n",
    "    # 10. 原参数减去gradient，完成一次gradient descent\n",
    "    optimizer.step()\n",
    "    \n",
    "    # 11. 每隔几次epoch就打印出来training loss，作为监控训练质量的方法\n",
    "    # Epoch: 0001 cost = 1.933191\n",
    "    # Epoch: 0002 cost = 1.794412\n",
    "    # Epoch: 0003 cost = ......\n",
    "    print('Epoch:', '%04d' % (epoch + 1), 'cost =', '{:.6f}'.format(loss))"
   ]
  }
 ],
 "metadata": {
  "kernelspec": {
   "display_name": "Python 3",
   "language": "python",
   "name": "python3"
  },
  "language_info": {
   "codemirror_mode": {
    "name": "ipython",
    "version": 3
   },
   "file_extension": ".py",
   "mimetype": "text/x-python",
   "name": "python",
   "nbconvert_exporter": "python",
   "pygments_lexer": "ipython3",
   "version": "3.7.3"
  }
 },
 "nbformat": 4,
 "nbformat_minor": 2
}
